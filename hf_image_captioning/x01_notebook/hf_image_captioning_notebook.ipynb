{
 "cells": [
  {
   "cell_type": "markdown",
   "metadata": {},
   "source": [
    "Hugging Face - Image Captioning"
   ]
  },
  {
   "cell_type": "code",
   "execution_count": null,
   "metadata": {},
   "outputs": [],
   "source": [
    "!pip install ipykernel\n",
    "!pip install ipywidgets"
   ]
  },
  {
   "cell_type": "code",
   "execution_count": 4,
   "metadata": {},
   "outputs": [
    {
     "name": "stdout",
     "output_type": "stream",
     "text": [
      "Requirement already satisfied: transformers in /opt/projects/hugging_face_demos/hf_image_captioning/venv/lib/python3.10/site-packages (4.49.0)\n",
      "Requirement already satisfied: tokenizers<0.22,>=0.21 in /opt/projects/hugging_face_demos/hf_image_captioning/venv/lib/python3.10/site-packages (from transformers) (0.21.0)\n",
      "Requirement already satisfied: safetensors>=0.4.1 in /opt/projects/hugging_face_demos/hf_image_captioning/venv/lib/python3.10/site-packages (from transformers) (0.5.3)\n",
      "Requirement already satisfied: filelock in /opt/projects/hugging_face_demos/hf_image_captioning/venv/lib/python3.10/site-packages (from transformers) (3.17.0)\n",
      "Requirement already satisfied: pyyaml>=5.1 in /opt/projects/hugging_face_demos/hf_image_captioning/venv/lib/python3.10/site-packages (from transformers) (6.0.2)\n",
      "Requirement already satisfied: packaging>=20.0 in /opt/projects/hugging_face_demos/hf_image_captioning/venv/lib/python3.10/site-packages (from transformers) (24.2)\n",
      "Requirement already satisfied: tqdm>=4.27 in /opt/projects/hugging_face_demos/hf_image_captioning/venv/lib/python3.10/site-packages (from transformers) (4.67.1)\n",
      "Requirement already satisfied: requests in /opt/projects/hugging_face_demos/hf_image_captioning/venv/lib/python3.10/site-packages (from transformers) (2.32.3)\n",
      "Requirement already satisfied: numpy>=1.17 in /opt/projects/hugging_face_demos/hf_image_captioning/venv/lib/python3.10/site-packages (from transformers) (2.2.3)\n",
      "Requirement already satisfied: regex!=2019.12.17 in /opt/projects/hugging_face_demos/hf_image_captioning/venv/lib/python3.10/site-packages (from transformers) (2024.11.6)\n",
      "Requirement already satisfied: huggingface-hub<1.0,>=0.26.0 in /opt/projects/hugging_face_demos/hf_image_captioning/venv/lib/python3.10/site-packages (from transformers) (0.29.2)\n",
      "Requirement already satisfied: fsspec>=2023.5.0 in /opt/projects/hugging_face_demos/hf_image_captioning/venv/lib/python3.10/site-packages (from huggingface-hub<1.0,>=0.26.0->transformers) (2025.3.0)\n",
      "Requirement already satisfied: typing-extensions>=3.7.4.3 in /opt/projects/hugging_face_demos/hf_image_captioning/venv/lib/python3.10/site-packages (from huggingface-hub<1.0,>=0.26.0->transformers) (4.12.2)\n",
      "Requirement already satisfied: certifi>=2017.4.17 in /opt/projects/hugging_face_demos/hf_image_captioning/venv/lib/python3.10/site-packages (from requests->transformers) (2025.1.31)\n",
      "Requirement already satisfied: idna<4,>=2.5 in /opt/projects/hugging_face_demos/hf_image_captioning/venv/lib/python3.10/site-packages (from requests->transformers) (3.10)\n",
      "Requirement already satisfied: charset-normalizer<4,>=2 in /opt/projects/hugging_face_demos/hf_image_captioning/venv/lib/python3.10/site-packages (from requests->transformers) (3.4.1)\n",
      "Requirement already satisfied: urllib3<3,>=1.21.1 in /opt/projects/hugging_face_demos/hf_image_captioning/venv/lib/python3.10/site-packages (from requests->transformers) (2.3.0)\n",
      "Requirement already satisfied: torch in /opt/projects/hugging_face_demos/hf_image_captioning/venv/lib/python3.10/site-packages (2.6.0)\n",
      "Requirement already satisfied: fsspec in /opt/projects/hugging_face_demos/hf_image_captioning/venv/lib/python3.10/site-packages (from torch) (2025.3.0)\n",
      "Requirement already satisfied: nvidia-cublas-cu12==12.4.5.8 in /opt/projects/hugging_face_demos/hf_image_captioning/venv/lib/python3.10/site-packages (from torch) (12.4.5.8)\n",
      "Requirement already satisfied: nvidia-cufft-cu12==11.2.1.3 in /opt/projects/hugging_face_demos/hf_image_captioning/venv/lib/python3.10/site-packages (from torch) (11.2.1.3)\n",
      "Requirement already satisfied: nvidia-nvjitlink-cu12==12.4.127 in /opt/projects/hugging_face_demos/hf_image_captioning/venv/lib/python3.10/site-packages (from torch) (12.4.127)\n",
      "Requirement already satisfied: nvidia-cusparselt-cu12==0.6.2 in /opt/projects/hugging_face_demos/hf_image_captioning/venv/lib/python3.10/site-packages (from torch) (0.6.2)\n",
      "Requirement already satisfied: sympy==1.13.1 in /opt/projects/hugging_face_demos/hf_image_captioning/venv/lib/python3.10/site-packages (from torch) (1.13.1)\n",
      "Requirement already satisfied: nvidia-cuda-nvrtc-cu12==12.4.127 in /opt/projects/hugging_face_demos/hf_image_captioning/venv/lib/python3.10/site-packages (from torch) (12.4.127)\n",
      "Requirement already satisfied: nvidia-nvtx-cu12==12.4.127 in /opt/projects/hugging_face_demos/hf_image_captioning/venv/lib/python3.10/site-packages (from torch) (12.4.127)\n",
      "Requirement already satisfied: typing-extensions>=4.10.0 in /opt/projects/hugging_face_demos/hf_image_captioning/venv/lib/python3.10/site-packages (from torch) (4.12.2)\n",
      "Requirement already satisfied: filelock in /opt/projects/hugging_face_demos/hf_image_captioning/venv/lib/python3.10/site-packages (from torch) (3.17.0)\n",
      "Requirement already satisfied: nvidia-cuda-runtime-cu12==12.4.127 in /opt/projects/hugging_face_demos/hf_image_captioning/venv/lib/python3.10/site-packages (from torch) (12.4.127)\n",
      "Requirement already satisfied: nvidia-cusolver-cu12==11.6.1.9 in /opt/projects/hugging_face_demos/hf_image_captioning/venv/lib/python3.10/site-packages (from torch) (11.6.1.9)\n",
      "Requirement already satisfied: nvidia-nccl-cu12==2.21.5 in /opt/projects/hugging_face_demos/hf_image_captioning/venv/lib/python3.10/site-packages (from torch) (2.21.5)\n",
      "Requirement already satisfied: triton==3.2.0 in /opt/projects/hugging_face_demos/hf_image_captioning/venv/lib/python3.10/site-packages (from torch) (3.2.0)\n",
      "Requirement already satisfied: nvidia-cudnn-cu12==9.1.0.70 in /opt/projects/hugging_face_demos/hf_image_captioning/venv/lib/python3.10/site-packages (from torch) (9.1.0.70)\n",
      "Requirement already satisfied: jinja2 in /opt/projects/hugging_face_demos/hf_image_captioning/venv/lib/python3.10/site-packages (from torch) (3.1.6)\n",
      "Requirement already satisfied: networkx in /opt/projects/hugging_face_demos/hf_image_captioning/venv/lib/python3.10/site-packages (from torch) (3.4.2)\n",
      "Requirement already satisfied: nvidia-cuda-cupti-cu12==12.4.127 in /opt/projects/hugging_face_demos/hf_image_captioning/venv/lib/python3.10/site-packages (from torch) (12.4.127)\n",
      "Requirement already satisfied: nvidia-curand-cu12==10.3.5.147 in /opt/projects/hugging_face_demos/hf_image_captioning/venv/lib/python3.10/site-packages (from torch) (10.3.5.147)\n",
      "Requirement already satisfied: nvidia-cusparse-cu12==12.3.1.170 in /opt/projects/hugging_face_demos/hf_image_captioning/venv/lib/python3.10/site-packages (from torch) (12.3.1.170)\n",
      "Requirement already satisfied: mpmath<1.4,>=1.1.0 in /opt/projects/hugging_face_demos/hf_image_captioning/venv/lib/python3.10/site-packages (from sympy==1.13.1->torch) (1.3.0)\n",
      "Requirement already satisfied: MarkupSafe>=2.0 in /opt/projects/hugging_face_demos/hf_image_captioning/venv/lib/python3.10/site-packages (from jinja2->torch) (3.0.2)\n",
      "Requirement already satisfied: pillow in /opt/projects/hugging_face_demos/hf_image_captioning/venv/lib/python3.10/site-packages (11.1.0)\n",
      "Requirement already satisfied: ipykernel in /opt/projects/hugging_face_demos/hf_image_captioning/venv/lib/python3.10/site-packages (6.29.5)\n",
      "Requirement already satisfied: tornado>=6.1 in /opt/projects/hugging_face_demos/hf_image_captioning/venv/lib/python3.10/site-packages (from ipykernel) (6.4.2)\n",
      "Requirement already satisfied: traitlets>=5.4.0 in /opt/projects/hugging_face_demos/hf_image_captioning/venv/lib/python3.10/site-packages (from ipykernel) (5.14.3)\n",
      "Requirement already satisfied: comm>=0.1.1 in /opt/projects/hugging_face_demos/hf_image_captioning/venv/lib/python3.10/site-packages (from ipykernel) (0.2.2)\n",
      "Requirement already satisfied: ipython>=7.23.1 in /opt/projects/hugging_face_demos/hf_image_captioning/venv/lib/python3.10/site-packages (from ipykernel) (8.34.0)\n",
      "Requirement already satisfied: nest-asyncio in /opt/projects/hugging_face_demos/hf_image_captioning/venv/lib/python3.10/site-packages (from ipykernel) (1.6.0)\n",
      "Requirement already satisfied: jupyter-core!=5.0.*,>=4.12 in /opt/projects/hugging_face_demos/hf_image_captioning/venv/lib/python3.10/site-packages (from ipykernel) (5.7.2)\n",
      "Requirement already satisfied: packaging in /opt/projects/hugging_face_demos/hf_image_captioning/venv/lib/python3.10/site-packages (from ipykernel) (24.2)\n",
      "Requirement already satisfied: pyzmq>=24 in /opt/projects/hugging_face_demos/hf_image_captioning/venv/lib/python3.10/site-packages (from ipykernel) (26.2.1)\n",
      "Requirement already satisfied: psutil in /opt/projects/hugging_face_demos/hf_image_captioning/venv/lib/python3.10/site-packages (from ipykernel) (7.0.0)\n",
      "Requirement already satisfied: debugpy>=1.6.5 in /opt/projects/hugging_face_demos/hf_image_captioning/venv/lib/python3.10/site-packages (from ipykernel) (1.8.13)\n",
      "Requirement already satisfied: matplotlib-inline>=0.1 in /opt/projects/hugging_face_demos/hf_image_captioning/venv/lib/python3.10/site-packages (from ipykernel) (0.1.7)\n",
      "Requirement already satisfied: jupyter-client>=6.1.12 in /opt/projects/hugging_face_demos/hf_image_captioning/venv/lib/python3.10/site-packages (from ipykernel) (8.6.3)\n",
      "Requirement already satisfied: pexpect>4.3 in /opt/projects/hugging_face_demos/hf_image_captioning/venv/lib/python3.10/site-packages (from ipython>=7.23.1->ipykernel) (4.9.0)\n",
      "Requirement already satisfied: prompt_toolkit<3.1.0,>=3.0.41 in /opt/projects/hugging_face_demos/hf_image_captioning/venv/lib/python3.10/site-packages (from ipython>=7.23.1->ipykernel) (3.0.50)\n",
      "Requirement already satisfied: exceptiongroup in /opt/projects/hugging_face_demos/hf_image_captioning/venv/lib/python3.10/site-packages (from ipython>=7.23.1->ipykernel) (1.2.2)\n",
      "Requirement already satisfied: pygments>=2.4.0 in /opt/projects/hugging_face_demos/hf_image_captioning/venv/lib/python3.10/site-packages (from ipython>=7.23.1->ipykernel) (2.19.1)\n",
      "Requirement already satisfied: jedi>=0.16 in /opt/projects/hugging_face_demos/hf_image_captioning/venv/lib/python3.10/site-packages (from ipython>=7.23.1->ipykernel) (0.19.2)\n",
      "Requirement already satisfied: typing_extensions>=4.6 in /opt/projects/hugging_face_demos/hf_image_captioning/venv/lib/python3.10/site-packages (from ipython>=7.23.1->ipykernel) (4.12.2)\n",
      "Requirement already satisfied: decorator in /opt/projects/hugging_face_demos/hf_image_captioning/venv/lib/python3.10/site-packages (from ipython>=7.23.1->ipykernel) (5.2.1)\n",
      "Requirement already satisfied: stack_data in /opt/projects/hugging_face_demos/hf_image_captioning/venv/lib/python3.10/site-packages (from ipython>=7.23.1->ipykernel) (0.6.3)\n",
      "Requirement already satisfied: python-dateutil>=2.8.2 in /opt/projects/hugging_face_demos/hf_image_captioning/venv/lib/python3.10/site-packages (from jupyter-client>=6.1.12->ipykernel) (2.9.0.post0)\n",
      "Requirement already satisfied: platformdirs>=2.5 in /opt/projects/hugging_face_demos/hf_image_captioning/venv/lib/python3.10/site-packages (from jupyter-core!=5.0.*,>=4.12->ipykernel) (4.3.6)\n",
      "Requirement already satisfied: parso<0.9.0,>=0.8.4 in /opt/projects/hugging_face_demos/hf_image_captioning/venv/lib/python3.10/site-packages (from jedi>=0.16->ipython>=7.23.1->ipykernel) (0.8.4)\n",
      "Requirement already satisfied: ptyprocess>=0.5 in /opt/projects/hugging_face_demos/hf_image_captioning/venv/lib/python3.10/site-packages (from pexpect>4.3->ipython>=7.23.1->ipykernel) (0.7.0)\n",
      "Requirement already satisfied: wcwidth in /opt/projects/hugging_face_demos/hf_image_captioning/venv/lib/python3.10/site-packages (from prompt_toolkit<3.1.0,>=3.0.41->ipython>=7.23.1->ipykernel) (0.2.13)\n",
      "Requirement already satisfied: six>=1.5 in /opt/projects/hugging_face_demos/hf_image_captioning/venv/lib/python3.10/site-packages (from python-dateutil>=2.8.2->jupyter-client>=6.1.12->ipykernel) (1.17.0)\n",
      "Requirement already satisfied: pure-eval in /opt/projects/hugging_face_demos/hf_image_captioning/venv/lib/python3.10/site-packages (from stack_data->ipython>=7.23.1->ipykernel) (0.2.3)\n",
      "Requirement already satisfied: asttokens>=2.1.0 in /opt/projects/hugging_face_demos/hf_image_captioning/venv/lib/python3.10/site-packages (from stack_data->ipython>=7.23.1->ipykernel) (3.0.0)\n",
      "Requirement already satisfied: executing>=1.2.0 in /opt/projects/hugging_face_demos/hf_image_captioning/venv/lib/python3.10/site-packages (from stack_data->ipython>=7.23.1->ipykernel) (2.2.0)\n",
      "Collecting ipywidgets\n",
      "  Downloading ipywidgets-8.1.5-py3-none-any.whl (139 kB)\n",
      "\u001b[2K     \u001b[90m━━━━━━━━━━━━━━━━━━━━━━━━━━━━━━━━━━━━━━━\u001b[0m \u001b[32m139.8/139.8 KB\u001b[0m \u001b[31m1.8 MB/s\u001b[0m eta \u001b[36m0:00:00\u001b[0ma \u001b[36m0:00:01\u001b[0m\n",
      "\u001b[?25hRequirement already satisfied: traitlets>=4.3.1 in /opt/projects/hugging_face_demos/hf_image_captioning/venv/lib/python3.10/site-packages (from ipywidgets) (5.14.3)\n",
      "Requirement already satisfied: ipython>=6.1.0 in /opt/projects/hugging_face_demos/hf_image_captioning/venv/lib/python3.10/site-packages (from ipywidgets) (8.34.0)\n",
      "Requirement already satisfied: comm>=0.1.3 in /opt/projects/hugging_face_demos/hf_image_captioning/venv/lib/python3.10/site-packages (from ipywidgets) (0.2.2)\n",
      "Collecting widgetsnbextension~=4.0.12\n",
      "  Downloading widgetsnbextension-4.0.13-py3-none-any.whl (2.3 MB)\n",
      "\u001b[2K     \u001b[90m━━━━━━━━━━━━━━━━━━━━━━━━━━━━━━━━━━━━━━━━\u001b[0m \u001b[32m2.3/2.3 MB\u001b[0m \u001b[31m24.6 MB/s\u001b[0m eta \u001b[36m0:00:00\u001b[0ma \u001b[36m0:00:01\u001b[0m\n",
      "\u001b[?25hCollecting jupyterlab-widgets~=3.0.12\n",
      "  Downloading jupyterlab_widgets-3.0.13-py3-none-any.whl (214 kB)\n",
      "\u001b[2K     \u001b[90m━━━━━━━━━━━━━━━━━━━━━━━━━━━━━━━━━━━━━━\u001b[0m \u001b[32m214.4/214.4 KB\u001b[0m \u001b[31m14.8 MB/s\u001b[0m eta \u001b[36m0:00:00\u001b[0m\n",
      "\u001b[?25hRequirement already satisfied: prompt_toolkit<3.1.0,>=3.0.41 in /opt/projects/hugging_face_demos/hf_image_captioning/venv/lib/python3.10/site-packages (from ipython>=6.1.0->ipywidgets) (3.0.50)\n",
      "Requirement already satisfied: pygments>=2.4.0 in /opt/projects/hugging_face_demos/hf_image_captioning/venv/lib/python3.10/site-packages (from ipython>=6.1.0->ipywidgets) (2.19.1)\n",
      "Requirement already satisfied: decorator in /opt/projects/hugging_face_demos/hf_image_captioning/venv/lib/python3.10/site-packages (from ipython>=6.1.0->ipywidgets) (5.2.1)\n",
      "Requirement already satisfied: stack_data in /opt/projects/hugging_face_demos/hf_image_captioning/venv/lib/python3.10/site-packages (from ipython>=6.1.0->ipywidgets) (0.6.3)\n",
      "Requirement already satisfied: typing_extensions>=4.6 in /opt/projects/hugging_face_demos/hf_image_captioning/venv/lib/python3.10/site-packages (from ipython>=6.1.0->ipywidgets) (4.12.2)\n",
      "Requirement already satisfied: exceptiongroup in /opt/projects/hugging_face_demos/hf_image_captioning/venv/lib/python3.10/site-packages (from ipython>=6.1.0->ipywidgets) (1.2.2)\n",
      "Requirement already satisfied: pexpect>4.3 in /opt/projects/hugging_face_demos/hf_image_captioning/venv/lib/python3.10/site-packages (from ipython>=6.1.0->ipywidgets) (4.9.0)\n",
      "Requirement already satisfied: jedi>=0.16 in /opt/projects/hugging_face_demos/hf_image_captioning/venv/lib/python3.10/site-packages (from ipython>=6.1.0->ipywidgets) (0.19.2)\n",
      "Requirement already satisfied: matplotlib-inline in /opt/projects/hugging_face_demos/hf_image_captioning/venv/lib/python3.10/site-packages (from ipython>=6.1.0->ipywidgets) (0.1.7)\n",
      "Requirement already satisfied: parso<0.9.0,>=0.8.4 in /opt/projects/hugging_face_demos/hf_image_captioning/venv/lib/python3.10/site-packages (from jedi>=0.16->ipython>=6.1.0->ipywidgets) (0.8.4)\n",
      "Requirement already satisfied: ptyprocess>=0.5 in /opt/projects/hugging_face_demos/hf_image_captioning/venv/lib/python3.10/site-packages (from pexpect>4.3->ipython>=6.1.0->ipywidgets) (0.7.0)\n",
      "Requirement already satisfied: wcwidth in /opt/projects/hugging_face_demos/hf_image_captioning/venv/lib/python3.10/site-packages (from prompt_toolkit<3.1.0,>=3.0.41->ipython>=6.1.0->ipywidgets) (0.2.13)\n",
      "Requirement already satisfied: asttokens>=2.1.0 in /opt/projects/hugging_face_demos/hf_image_captioning/venv/lib/python3.10/site-packages (from stack_data->ipython>=6.1.0->ipywidgets) (3.0.0)\n",
      "Requirement already satisfied: pure-eval in /opt/projects/hugging_face_demos/hf_image_captioning/venv/lib/python3.10/site-packages (from stack_data->ipython>=6.1.0->ipywidgets) (0.2.3)\n",
      "Requirement already satisfied: executing>=1.2.0 in /opt/projects/hugging_face_demos/hf_image_captioning/venv/lib/python3.10/site-packages (from stack_data->ipython>=6.1.0->ipywidgets) (2.2.0)\n",
      "Installing collected packages: widgetsnbextension, jupyterlab-widgets, ipywidgets\n",
      "Successfully installed ipywidgets-8.1.5 jupyterlab-widgets-3.0.13 widgetsnbextension-4.0.13\n"
     ]
    }
   ],
   "source": [
    "# Install the packages\n",
    "!pip install transformers\n",
    "!pip install torch\n",
    "!pip install pillow"
   ]
  },
  {
   "cell_type": "code",
   "execution_count": 5,
   "metadata": {},
   "outputs": [],
   "source": [
    "from transformers.utils import logging\n",
    "logging.set_verbosity_error()"
   ]
  },
  {
   "cell_type": "code",
   "execution_count": 6,
   "metadata": {},
   "outputs": [],
   "source": [
    "import warnings\n",
    "warnings.filterwarnings(\"ignore\", message=\"Using the model-agnostic default `max_length`\")"
   ]
  },
  {
   "cell_type": "code",
   "execution_count": 7,
   "metadata": {},
   "outputs": [],
   "source": [
    "from transformers import BlipForConditionalGeneration\n",
    "from transformers import AutoProcessor"
   ]
  },
  {
   "cell_type": "code",
   "execution_count": 8,
   "metadata": {},
   "outputs": [],
   "source": [
    "model = BlipForConditionalGeneration.from_pretrained(\"Salesforce/blip-image-captioning-base\")\n",
    "processor = AutoProcessor.from_pretrained(\"Salesforce/blip-image-captioning-base\")"
   ]
  },
  {
   "cell_type": "code",
   "execution_count": 9,
   "metadata": {},
   "outputs": [],
   "source": [
    "from PIL import Image\n",
    "image = Image.open(\"input/sample_image1.jpeg\")"
   ]
  },
  {
   "cell_type": "code",
   "execution_count": 10,
   "metadata": {},
   "outputs": [
    {
     "name": "stdout",
     "output_type": "stream",
     "text": [
      "a woman sitting on the beach with her dog\n"
     ]
    }
   ],
   "source": [
    "# Unconditional Image Captioning\n",
    "inputs = processor(image,return_tensors=\"pt\")\n",
    "out = model.generate(**inputs)\n",
    "print(processor.decode(out[0], skip_special_tokens=True))"
   ]
  },
  {
   "cell_type": "code",
   "execution_count": 11,
   "metadata": {},
   "outputs": [
    {
     "name": "stdout",
     "output_type": "stream",
     "text": [
      "a photograph of a woman and her dog on the beach\n"
     ]
    }
   ],
   "source": [
    "# Conditional Image Captioning\n",
    "text = \"a photograph of\"\n",
    "inputs = processor(image, text, return_tensors=\"pt\")\n",
    "out = model.generate(**inputs)\n",
    "print(processor.decode(out[0], skip_special_tokens=True))"
   ]
  }
 ],
 "metadata": {
  "kernelspec": {
   "display_name": "venv",
   "language": "python",
   "name": "python3"
  },
  "language_info": {
   "codemirror_mode": {
    "name": "ipython",
    "version": 3
   },
   "file_extension": ".py",
   "mimetype": "text/x-python",
   "name": "python",
   "nbconvert_exporter": "python",
   "pygments_lexer": "ipython3",
   "version": "3.10.12"
  }
 },
 "nbformat": 4,
 "nbformat_minor": 2
}
